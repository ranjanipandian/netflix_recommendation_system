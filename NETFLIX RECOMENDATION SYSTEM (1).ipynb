{
 "cells": [
  {
   "cell_type": "code",
   "execution_count": null,
   "id": "37c28e65",
   "metadata": {},
   "outputs": [],
   "source": [
    "# to see where the notebook is placed in the system\n",
    "\n",
    "import os\n",
    "os.getcwd()"
   ]
  },
  {
   "cell_type": "code",
   "execution_count": 14,
   "id": "5c72c2ee",
   "metadata": {},
   "outputs": [
    {
     "data": {
      "text/plain": [
       "['.ipynb_checkpoints',\n",
       " 'contents',\n",
       " 'NETFLIX RECOMENDATION SYSTEM.ipynb',\n",
       " 'netflixData.csv']"
      ]
     },
     "execution_count": 14,
     "metadata": {},
     "output_type": "execute_result"
    }
   ],
   "source": [
    "#to list all the files inside the directory\n",
    "\n",
    "os.listdir()"
   ]
  },
  {
   "cell_type": "code",
   "execution_count": 11,
   "id": "168b1530",
   "metadata": {},
   "outputs": [],
   "source": [
    "#numpy is for mathematical library for computations\n",
    "import numpy as np\n",
    "\n",
    "#pandas for the excel handling it handels the two dimensional data\n",
    "import pandas as pd\n",
    "\n",
    "#sklearn is the magical library. it is the magic band of machine learning for all the supervised and unsupervised techniques\n",
    "#feature extraction is inside sklearn. in feature extraction we need only text for this project\n",
    "from sklearn.feature_extraction import text\n",
    "\n",
    "#in the module pairsie there is a file called cosine_similarity-IT IS USED TO RECOMMEND\n",
    "from sklearn.metrics.pairwise import cosine_similarity\n"
   ]
  },
  {
   "cell_type": "code",
   "execution_count": 15,
   "id": "3de2f125",
   "metadata": {},
   "outputs": [],
   "source": [
    "#upload the dataset\n",
    "\n",
    "data=pd.read_csv(\"netflixData.csv\")"
   ]
  },
  {
   "cell_type": "code",
   "execution_count": 18,
   "id": "520967e2",
   "metadata": {},
   "outputs": [
    {
     "name": "stdout",
     "output_type": "stream",
     "text": [
      "                                Show Id                          Title  \\\n",
      "0  cc1b6ed9-cf9e-4057-8303-34577fb54477                       (Un)Well   \n",
      "1  e2ef4e91-fb25-42ab-b485-be8e3b23dedb                         #Alive   \n",
      "2  b01b73b7-81f6-47a7-86d8-acb63080d525  #AnneFrank - Parallel Stories   \n",
      "3  b6611af0-f53c-4a08-9ffa-9716dc57eb9c                       #blackAF   \n",
      "4  7f2d4170-bab8-4d75-adc2-197f7124c070               #cats_the_mewvie   \n",
      "\n",
      "                                         Description  \\\n",
      "0  This docuseries takes a deep dive into the luc...   \n",
      "1  As a grisly virus rampages a city, a lone man ...   \n",
      "2  Through her diary, Anne Frank's story is retol...   \n",
      "3  Kenya Barris and his family navigate relations...   \n",
      "4  This pawesome documentary explores how our fel...   \n",
      "\n",
      "                      Director  \\\n",
      "0                          NaN   \n",
      "1                       Cho Il   \n",
      "2  Sabina Fedeli, Anna Migotto   \n",
      "3                          NaN   \n",
      "4             Michael Margolis   \n",
      "\n",
      "                                           Genres  \\\n",
      "0                                      Reality TV   \n",
      "1  Horror Movies, International Movies, Thrillers   \n",
      "2             Documentaries, International Movies   \n",
      "3                                     TV Comedies   \n",
      "4             Documentaries, International Movies   \n",
      "\n",
      "                                                Cast Production Country  \\\n",
      "0                                                NaN      United States   \n",
      "1                           Yoo Ah-in, Park Shin-hye        South Korea   \n",
      "2                        Helen Mirren, Gengher Gatti              Italy   \n",
      "3  Kenya Barris, Rashida Jones, Iman Benson, Genn...      United States   \n",
      "4                                                NaN             Canada   \n",
      "\n",
      "   Release Date Rating  Duration Imdb Score Content Type         Date Added  \n",
      "0        2020.0  TV-MA  1 Season     6.6/10      TV Show                NaN  \n",
      "1        2020.0  TV-MA    99 min     6.2/10        Movie  September 8, 2020  \n",
      "2        2019.0  TV-14    95 min     6.4/10        Movie       July 1, 2020  \n",
      "3        2020.0  TV-MA  1 Season     6.6/10      TV Show                NaN  \n",
      "4        2020.0  TV-14    90 min     5.1/10        Movie   February 5, 2020  \n"
     ]
    }
   ],
   "source": [
    "# read the heads to check or verify\n",
    "\n",
    "print(data.head())"
   ]
  },
  {
   "cell_type": "code",
   "execution_count": 20,
   "id": "2f64d848",
   "metadata": {},
   "outputs": [
    {
     "name": "stdout",
     "output_type": "stream",
     "text": [
      "Show Id                  0\n",
      "Title                    0\n",
      "Description              0\n",
      "Director              2064\n",
      "Genres                   0\n",
      "Cast                   530\n",
      "Production Country     559\n",
      "Release Date             3\n",
      "Rating                   4\n",
      "Duration                 3\n",
      "Imdb Score             608\n",
      "Content Type             0\n",
      "Date Added            1335\n",
      "dtype: int64\n"
     ]
    }
   ],
   "source": [
    "#it shows which values are null in the dataset\n",
    "\n",
    "print(data.isnull().sum())"
   ]
  },
  {
   "cell_type": "code",
   "execution_count": 23,
   "id": "d889f905",
   "metadata": {},
   "outputs": [
    {
     "name": "stdout",
     "output_type": "stream",
     "text": [
      "                           Title  \\\n",
      "0                       (Un)Well   \n",
      "1                         #Alive   \n",
      "2  #AnneFrank - Parallel Stories   \n",
      "3                       #blackAF   \n",
      "4               #cats_the_mewvie   \n",
      "\n",
      "                                         Description Content Type  \\\n",
      "0  This docuseries takes a deep dive into the luc...      TV Show   \n",
      "1  As a grisly virus rampages a city, a lone man ...        Movie   \n",
      "2  Through her diary, Anne Frank's story is retol...        Movie   \n",
      "3  Kenya Barris and his family navigate relations...      TV Show   \n",
      "4  This pawesome documentary explores how our fel...        Movie   \n",
      "\n",
      "                                           Genres  \n",
      "0                                      Reality TV  \n",
      "1  Horror Movies, International Movies, Thrillers  \n",
      "2             Documentaries, International Movies  \n",
      "3                                     TV Comedies  \n",
      "4             Documentaries, International Movies  \n"
     ]
    }
   ],
   "source": [
    "#slicing the columns that we are going to work in\n",
    "\n",
    "data=data[[\"Title\",\"Description\",\"Content Type\",\"Genres\"]]\n",
    "print(data.head())"
   ]
  },
  {
   "cell_type": "code",
   "execution_count": 24,
   "id": "598ce47b",
   "metadata": {},
   "outputs": [],
   "source": [
    "# null values are cleaned from the data for making the dataset more lookable\n",
    "data=data.dropna()"
   ]
  },
  {
   "cell_type": "code",
   "execution_count": 27,
   "id": "a89f2803",
   "metadata": {},
   "outputs": [
    {
     "data": {
      "text/html": [
       "<div>\n",
       "<style scoped>\n",
       "    .dataframe tbody tr th:only-of-type {\n",
       "        vertical-align: middle;\n",
       "    }\n",
       "\n",
       "    .dataframe tbody tr th {\n",
       "        vertical-align: top;\n",
       "    }\n",
       "\n",
       "    .dataframe thead th {\n",
       "        text-align: right;\n",
       "    }\n",
       "</style>\n",
       "<table border=\"1\" class=\"dataframe\">\n",
       "  <thead>\n",
       "    <tr style=\"text-align: right;\">\n",
       "      <th></th>\n",
       "      <th>Title</th>\n",
       "      <th>Description</th>\n",
       "      <th>Content Type</th>\n",
       "      <th>Genres</th>\n",
       "    </tr>\n",
       "  </thead>\n",
       "  <tbody>\n",
       "    <tr>\n",
       "      <th>0</th>\n",
       "      <td>(Un)Well</td>\n",
       "      <td>This docuseries takes a deep dive into the luc...</td>\n",
       "      <td>TV Show</td>\n",
       "      <td>Reality TV</td>\n",
       "    </tr>\n",
       "    <tr>\n",
       "      <th>1</th>\n",
       "      <td>#Alive</td>\n",
       "      <td>As a grisly virus rampages a city, a lone man ...</td>\n",
       "      <td>Movie</td>\n",
       "      <td>Horror Movies, International Movies, Thrillers</td>\n",
       "    </tr>\n",
       "    <tr>\n",
       "      <th>2</th>\n",
       "      <td>#AnneFrank - Parallel Stories</td>\n",
       "      <td>Through her diary, Anne Frank's story is retol...</td>\n",
       "      <td>Movie</td>\n",
       "      <td>Documentaries, International Movies</td>\n",
       "    </tr>\n",
       "    <tr>\n",
       "      <th>3</th>\n",
       "      <td>#blackAF</td>\n",
       "      <td>Kenya Barris and his family navigate relations...</td>\n",
       "      <td>TV Show</td>\n",
       "      <td>TV Comedies</td>\n",
       "    </tr>\n",
       "    <tr>\n",
       "      <th>4</th>\n",
       "      <td>#cats_the_mewvie</td>\n",
       "      <td>This pawesome documentary explores how our fel...</td>\n",
       "      <td>Movie</td>\n",
       "      <td>Documentaries, International Movies</td>\n",
       "    </tr>\n",
       "    <tr>\n",
       "      <th>...</th>\n",
       "      <td>...</td>\n",
       "      <td>...</td>\n",
       "      <td>...</td>\n",
       "      <td>...</td>\n",
       "    </tr>\n",
       "    <tr>\n",
       "      <th>5962</th>\n",
       "      <td>الف مبروك</td>\n",
       "      <td>On his wedding day, an arrogant, greedy accoun...</td>\n",
       "      <td>Movie</td>\n",
       "      <td>Comedies, Dramas, International Movies</td>\n",
       "    </tr>\n",
       "    <tr>\n",
       "      <th>5963</th>\n",
       "      <td>دفعة القاهرة</td>\n",
       "      <td>A group of women leaves Kuwait to attend unive...</td>\n",
       "      <td>TV Show</td>\n",
       "      <td>International TV Shows, TV Dramas</td>\n",
       "    </tr>\n",
       "    <tr>\n",
       "      <th>5964</th>\n",
       "      <td>海的儿子</td>\n",
       "      <td>Two brothers start a new life in Singapore, wh...</td>\n",
       "      <td>TV Show</td>\n",
       "      <td>International TV Shows, TV Dramas</td>\n",
       "    </tr>\n",
       "    <tr>\n",
       "      <th>5965</th>\n",
       "      <td>반드시 잡는다</td>\n",
       "      <td>After people in his town start turning up dead...</td>\n",
       "      <td>Movie</td>\n",
       "      <td>Dramas, International Movies, Thrillers</td>\n",
       "    </tr>\n",
       "    <tr>\n",
       "      <th>5966</th>\n",
       "      <td>최강전사 미니특공대 : 영웅의 탄생</td>\n",
       "      <td>Miniforce, a special task force of elite range...</td>\n",
       "      <td>Movie</td>\n",
       "      <td>Children &amp; Family Movies</td>\n",
       "    </tr>\n",
       "  </tbody>\n",
       "</table>\n",
       "<p>5967 rows × 4 columns</p>\n",
       "</div>"
      ],
      "text/plain": [
       "                              Title  \\\n",
       "0                          (Un)Well   \n",
       "1                            #Alive   \n",
       "2     #AnneFrank - Parallel Stories   \n",
       "3                          #blackAF   \n",
       "4                  #cats_the_mewvie   \n",
       "...                             ...   \n",
       "5962                      الف مبروك   \n",
       "5963                   دفعة القاهرة   \n",
       "5964                           海的儿子   \n",
       "5965                        반드시 잡는다   \n",
       "5966            최강전사 미니특공대 : 영웅의 탄생   \n",
       "\n",
       "                                            Description Content Type  \\\n",
       "0     This docuseries takes a deep dive into the luc...      TV Show   \n",
       "1     As a grisly virus rampages a city, a lone man ...        Movie   \n",
       "2     Through her diary, Anne Frank's story is retol...        Movie   \n",
       "3     Kenya Barris and his family navigate relations...      TV Show   \n",
       "4     This pawesome documentary explores how our fel...        Movie   \n",
       "...                                                 ...          ...   \n",
       "5962  On his wedding day, an arrogant, greedy accoun...        Movie   \n",
       "5963  A group of women leaves Kuwait to attend unive...      TV Show   \n",
       "5964  Two brothers start a new life in Singapore, wh...      TV Show   \n",
       "5965  After people in his town start turning up dead...        Movie   \n",
       "5966  Miniforce, a special task force of elite range...        Movie   \n",
       "\n",
       "                                              Genres  \n",
       "0                                         Reality TV  \n",
       "1     Horror Movies, International Movies, Thrillers  \n",
       "2                Documentaries, International Movies  \n",
       "3                                        TV Comedies  \n",
       "4                Documentaries, International Movies  \n",
       "...                                              ...  \n",
       "5962          Comedies, Dramas, International Movies  \n",
       "5963               International TV Shows, TV Dramas  \n",
       "5964               International TV Shows, TV Dramas  \n",
       "5965         Dramas, International Movies, Thrillers  \n",
       "5966                        Children & Family Movies  \n",
       "\n",
       "[5967 rows x 4 columns]"
      ]
     },
     "execution_count": 27,
     "metadata": {},
     "output_type": "execute_result"
    }
   ],
   "source": [
    "#print the data works only in notebooks\n",
    "data"
   ]
  },
  {
   "cell_type": "code",
   "execution_count": 32,
   "id": "f8002015",
   "metadata": {},
   "outputs": [
    {
     "name": "stderr",
     "output_type": "stream",
     "text": [
      "[nltk_data] Downloading package stopwords to\n",
      "[nltk_data]     C:\\Users\\Admin\\AppData\\Roaming\\nltk_data...\n",
      "[nltk_data]   Package stopwords is already up-to-date!\n"
     ]
    }
   ],
   "source": [
    "#nlp library--removes the garbage words from a sentence\n",
    "import nltk\n",
    "\n",
    "#regular expression\n",
    "import re\n",
    "\n",
    "#package of stopwords is taken as an extension tool \n",
    "#download the extension\n",
    "nltk.download('stopwords')\n",
    "\n",
    "#it is a method in the nltk that is snowball which supprts all language in which we need english\n",
    "#create stemmer method\n",
    "stemmer=nltk.SnowballStemmer(\"english\")\n",
    "\n",
    "#load stopwords\n",
    "from nltk.corpus import stopwords\n",
    "\n",
    "import string\n",
    "stopword=set(stopwords.words('english'))"
   ]
  },
  {
   "cell_type": "raw",
   "id": "ec706255",
   "metadata": {},
   "source": [
    "#creating a function which could clean the things\n",
    "def clean(text):\n",
    "    text = str(text).lower()\n",
    "    text = re.sub('\\[.*?\\]','',text)\n",
    "    text = re.sub('https?://\\S+|www\\.\\S+','',text)\n",
    "    text = re.sub('<.*?>+','',text)\n",
    "    text = re.sub('[%s]'% re.escape(string.punctuation),'',text)\n",
    "    text = re.sub('\\n','',text)\n",
    "    text = re.sub('\\w*\\d\\w*','',text)\n",
    "    \n",
    "    text = [word for word in text.split(' ') if word not in stopword]\n",
    "    text = \" \".join(text)\n",
    "    \n",
    "data[\"Title\"] = data[\"Title\"].apply(clean)"
   ]
  },
  {
   "cell_type": "code",
   "execution_count": 34,
   "id": "f969038a",
   "metadata": {},
   "outputs": [
    {
     "name": "stdout",
     "output_type": "stream",
     "text": [
      "20              Crime TV Shows, TV Dramas, TV Mysteries\n",
      "21                           Crime TV Shows, Docuseries\n",
      "22                                        Documentaries\n",
      "23                                        Documentaries\n",
      "24                 Comedies, Dramas, Independent Movies\n",
      "                            ...                        \n",
      "95    Children & Family Movies, Dramas, Romantic Movies\n",
      "96    Children & Family Movies, Dramas, Romantic Movies\n",
      "97                                               Movies\n",
      "98    Children & Family Movies, Comedies, Music & Mu...\n",
      "99                  Horror Movies, International Movies\n",
      "Name: Genres, Length: 80, dtype: object\n"
     ]
    }
   ],
   "source": [
    "print(data.Genres[20:100])"
   ]
  },
  {
   "cell_type": "code",
   "execution_count": 37,
   "id": "da240617",
   "metadata": {},
   "outputs": [],
   "source": [
    "from sklearn.feature_extraction.text import TfidfVectorizer\n",
    "from sklearn.metrics.pairwise import cosine_similarity"
   ]
  },
  {
   "cell_type": "code",
   "execution_count": 48,
   "id": "39f3905d",
   "metadata": {},
   "outputs": [],
   "source": [
    "feature=data['Genres'].tolist()\n",
    "\n",
    "#create an instance of TF -IDF vectorizer\n",
    "tfidf = TfidfVectorizer(stop_words=\"english\")\n",
    "\n",
    "#fit and transform the vectorizer on our corpus\n",
    "tfidf_matrix = tfidf.fit_transform(feature)\n",
    "\n",
    "#compute the cosine similarity matrix\n",
    "similarity = cosine_similarity(tfidf_matrix)\n",
    "\n",
    "indices = pd.Series(data.index,index=data['Title']).drop_duplicates()"
   ]
  },
  {
   "cell_type": "code",
   "execution_count": 57,
   "id": "758fc66d",
   "metadata": {},
   "outputs": [],
   "source": [
    "def netflix_recommendation(title):\n",
    "    try:\n",
    "        index = indices[title]\n",
    "        similarity_scores = list(enumerate(similarity[index]))\n",
    "        similarity_scores = sorted(similarity_scores,key=lambda x:x[1],reverse=True)\n",
    "        similarity_scores = similarity_scores[0:10]\n",
    "        movieindices = [i[0] for i in similarity_scores]\n",
    "        return data['Title'].iloc[movieindices]\n",
    "    except:\n",
    "        print(title,\"is not in the database\")"
   ]
  },
  {
   "cell_type": "code",
   "execution_count": 52,
   "id": "1e67b94e",
   "metadata": {},
   "outputs": [
    {
     "data": {
      "text/plain": [
       "1                           #Alive\n",
       "178                         Aaviri\n",
       "360                   Andhaghaaram\n",
       "361                    Andhakaaram\n",
       "398                        Apostle\n",
       "1759     Game Over (Hindi Version)\n",
       "1760     Game Over (Tamil Version)\n",
       "1761    Game Over (Telugu Version)\n",
       "1801                     Ghost Lab\n",
       "1804                 Ghost Stories\n",
       "Name: Title, dtype: object"
      ]
     },
     "execution_count": 52,
     "metadata": {},
     "output_type": "execute_result"
    }
   ],
   "source": [
    "netflix_recommendation(\"Aaviri\")"
   ]
  },
  {
   "cell_type": "code",
   "execution_count": 53,
   "id": "e4d459bf",
   "metadata": {},
   "outputs": [
    {
     "data": {
      "text/plain": [
       "1                           #Alive\n",
       "178                         Aaviri\n",
       "360                   Andhaghaaram\n",
       "361                    Andhakaaram\n",
       "398                        Apostle\n",
       "1759     Game Over (Hindi Version)\n",
       "1760     Game Over (Tamil Version)\n",
       "1761    Game Over (Telugu Version)\n",
       "1801                     Ghost Lab\n",
       "1804                 Ghost Stories\n",
       "Name: Title, dtype: object"
      ]
     },
     "execution_count": 53,
     "metadata": {},
     "output_type": "execute_result"
    }
   ],
   "source": [
    "netflix_recommendation(\"#Alive\")"
   ]
  },
  {
   "cell_type": "code",
   "execution_count": 58,
   "id": "8e744d10",
   "metadata": {},
   "outputs": [
    {
     "name": "stdout",
     "output_type": "stream",
     "text": [
      "Tiger 3 is not in the database\n"
     ]
    }
   ],
   "source": [
    "netflix_recommendation(\"Tiger 3\")"
   ]
  }
 ],
 "metadata": {
  "kernelspec": {
   "display_name": "Python 3 (ipykernel)",
   "language": "python",
   "name": "python3"
  },
  "language_info": {
   "codemirror_mode": {
    "name": "ipython",
    "version": 3
   },
   "file_extension": ".py",
   "mimetype": "text/x-python",
   "name": "python",
   "nbconvert_exporter": "python",
   "pygments_lexer": "ipython3",
   "version": "3.11.3"
  }
 },
 "nbformat": 4,
 "nbformat_minor": 5
}
